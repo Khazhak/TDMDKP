{
 "cells": [
  {
   "cell_type": "code",
   "execution_count": 104,
   "id": "f4b4c9ff",
   "metadata": {},
   "outputs": [],
   "source": [
    "import time\n",
    "import numpy as np\n",
    "import random as rd\n",
    "import math\n",
    "import os\n",
    "import torch\n",
    "from pathlib import Path\n",
    "import glob\n",
    "from torch.utils.data import Dataset,DataLoader,random_split\n",
    "import torch.nn as nn\n",
    "import torch.nn.functional as F\n",
    "import torch.optim as optim\n",
    "import pytorch_lightning as pl\n",
    "from pytorch_lightning.callbacks import LearningRateMonitor, ModelCheckpoint,EarlyStopping\n",
    "from torchmetrics import MeanSquaredError\n",
    "from torch.optim.lr_scheduler import ReduceLROnPlateau\n",
    "import matplotlib.pyplot as plt"
   ]
  },
  {
   "cell_type": "code",
   "execution_count": 2,
   "id": "a7643a0c",
   "metadata": {},
   "outputs": [],
   "source": [
    "def problem_grouping(clients, time_slot, quad_constr, util_rate=1.5,\n",
    "                     time_len=6, num_of_util_groups=15):  ##grouping by utility,then by time_slot_length\n",
    "    num_of_dims = time_slot.shape[0]\n",
    "    time_slot_min = time_slot.min(axis=1)\n",
    "    time_slot_av = time_slot.mean(axis=1)\n",
    "    time_slot_max = time_slot.max(axis=1)\n",
    "    max_cap = time_slot.max()\n",
    "    min_av_max_caps = np.concatenate((time_slot_min, time_slot_av, time_slot_max))\n",
    "    # normalizing time capacities\n",
    "    min_av_max_caps /= max_cap\n",
    "    quad_constr /= max_cap\n",
    "    av_cap_bytime = time_slot.mean(axis=0) / max_cap\n",
    "    # Normalizing demands in each dimension by min capacity\n",
    "    for dim in range(num_of_dims):\n",
    "        clients[:, dim] /= time_slot_min[dim]\n",
    "    # sum of demands of the first dimension normalized by min capacity of the first dimension\n",
    "    total_demand = clients[:, 0].sum()\n",
    "    ##Grouping by utilities\n",
    "    max_util = clients[:, -2].max()\n",
    "    min_util = clients[:, -2].min()\n",
    "    av_util = clients[:, -2].mean()\n",
    "    if 100 < max_util <= 1200:\n",
    "        clients[:, -2] /= 10\n",
    "    elif max_util > 1200:\n",
    "        clients[:, -2] /= 300\n",
    "    util_groups = []\n",
    "    steps = np.zeros(num_of_util_groups)\n",
    "    steps[0] = util_rate\n",
    "    for i in range(1, steps.size):\n",
    "        steps[i] = steps[i - 1] * util_rate\n",
    "    bool_idx = (clients[:, -2] <= steps[0])\n",
    "    util_groups.append(clients[np.where(bool_idx)[0]])\n",
    "    for i in range(1, num_of_util_groups):\n",
    "        bool_idx = (clients[:, -2] <= steps[i]) & (\n",
    "                clients[:, -2] > steps[i - 1])\n",
    "        util_groups.append(clients[np.where(bool_idx)[0]])\n",
    "    # Normalizing by max_util\n",
    "    for group in util_groups:\n",
    "        group[:, -2] /= max_util\n",
    "\n",
    "    ##Grouping by time_length\n",
    "    final_groups = []\n",
    "    gr_time = int(time_slot.shape[1] / time_len)\n",
    "    for i in range(num_of_util_groups):\n",
    "        if (util_groups[i].size > 0):\n",
    "            group_time_lengths = util_groups[i][:, num_of_dims + 1] - util_groups[i][:, num_of_dims]\n",
    "            min_time_len = np.min(group_time_lengths)\n",
    "            max_time_len = np.max(group_time_lengths)\n",
    "            steps = np.linspace(min_time_len, max_time_len, gr_time + 1)\n",
    "            for j in range(gr_time - 1):\n",
    "                bool_idx = (group_time_lengths >= steps[j]) & (group_time_lengths < steps[j + 1])\n",
    "                final_groups.append(util_groups[i][np.where(bool_idx)[0]])\n",
    "            bool_idx = (group_time_lengths >= steps[-2]) & (group_time_lengths <= steps[-1])\n",
    "            final_groups.append(util_groups[i][np.where(bool_idx)[0]])\n",
    "        else:\n",
    "            for _ in range(gr_time):\n",
    "                final_groups.append(util_groups[i])\n",
    "    return final_groups, total_demand, min_av_max_caps, av_cap_bytime, quad_constr, min_util, av_util"
   ]
  },
  {
   "cell_type": "code",
   "execution_count": 63,
   "id": "dfe5e5b8",
   "metadata": {},
   "outputs": [],
   "source": [
    "def data_preprocess(groups, total_demand, quad_cap, min_av_max_caps, av_cap_bytime,\n",
    "                    min_util, av_util, num_of_dims=3, num_of_clients=1500, time_length=96):\n",
    "    length = len(groups)\n",
    "    inputs = np.zeros((length + 1, 3 * num_of_dims + 1 + time_length + 2))\n",
    "    labels = np.zeros((length + 1, 2))\n",
    "    for i, group in enumerate(groups):\n",
    "        if group.size > 0:\n",
    "            inputs[i][:num_of_dims] = np.min(group[:, :num_of_dims], axis=0)  # minimum demand per dimension\n",
    "            inputs[i][num_of_dims:2 * num_of_dims] = np.mean(group[:, :num_of_dims],\n",
    "                                                             axis=0)  # average demand per dimension\n",
    "            inputs[i][2 * num_of_dims:3 * num_of_dims] = np.max(group[:, :num_of_dims],\n",
    "                                                                axis=0)  # maximum demand per dimension\n",
    "            quadr_demands = ((group[:, :num_of_dims] ** 2).sum(axis=1) / 30000).mean()\n",
    "            inputs[i][3 * num_of_dims] = quadr_demands\n",
    "            inputs[i][3 * num_of_dims + 1:3 * num_of_dims + time_length + 1] = np.sum(\n",
    "                group[:, num_of_dims + 2:num_of_dims + 2 + time_length],\n",
    "                axis=0) / num_of_clients  # average time_occupancy\n",
    "\n",
    "            inputs[i][-2] = np.mean(group[:, -2])  # average utility\n",
    "            inputs[i][-1] = group.shape[0] / num_of_clients  # what part of clients is in this group\n",
    "            labels[i][0] = np.sum(group[:, -1]) / num_of_clients  # what part is selected in the final answer\n",
    "            if group[np.where(group[:, -1] == 1)].size > 0:\n",
    "                labels[i][1] = group[np.where(group[:, -1] == 1)][:,\n",
    "                               0].sum() / total_demand  # total demand of selected clients/total demand of the first dimension\n",
    "    inputs[-1][:3 * num_of_dims] = min_av_max_caps\n",
    "    inputs[-1][3 * num_of_dims] = quad_cap\n",
    "    inputs[-1][3 * num_of_dims + 1:3 * num_of_dims + time_length + 1] = av_cap_bytime\n",
    "    inputs[-1][-2] = min_util\n",
    "    inputs[-1][-1] = av_util\n",
    "    labels[-1][0] = 1 - labels[:, 0].sum()\n",
    "    labels[-1][1] = 1 - labels[:, 1].sum()\n",
    "    return inputs,labels"
   ]
  },
  {
   "cell_type": "code",
   "execution_count": 64,
   "id": "4fa2f8c2",
   "metadata": {},
   "outputs": [],
   "source": [
    "class DataSetMaker(Dataset):\n",
    "    def __init__(self):\n",
    "        self.states=list(glob.glob('states/*.npz'))\n",
    "    def __len__(self):\n",
    "        return len(self.states)\n",
    "\n",
    "    def __getitem__(self, idx):\n",
    "        state = np.load(self.states[idx])\n",
    "        clients_list = state['cl']\n",
    "        time_slot_capacity = state['tslot']\n",
    "        quad_constr = state['quad_constr']\n",
    "        f_groups, tot_dem, min_av_max_caps, av_cap_bytime, min_util, av_util, q_c = problem_grouping(clients_list,\n",
    "                                                                                                 time_slot_capacity,\n",
    "                                                                                                 quad_constr)\n",
    "        inputs, labels = data_preprocess(f_groups, tot_dem, q_c, min_av_max_caps, av_cap_bytime,\n",
    "                               min_util, av_util)\n",
    "        return np.float32(inputs),np.float32(labels)"
   ]
  },
  {
   "cell_type": "code",
   "execution_count": 65,
   "id": "9c0846f0",
   "metadata": {},
   "outputs": [],
   "source": [
    "dataset=DataSetMaker()"
   ]
  },
  {
   "cell_type": "code",
   "execution_count": 66,
   "id": "8d3cd87f",
   "metadata": {},
   "outputs": [
    {
     "name": "stdout",
     "output_type": "stream",
     "text": [
      "Device: cuda:0\n"
     ]
    }
   ],
   "source": [
    "device = torch.device(\"cuda:0\") if torch.cuda.is_available() else torch.device(\"cpu\")\n",
    "print(\"Device:\", device)"
   ]
  },
  {
   "cell_type": "code",
   "execution_count": 67,
   "id": "ba9e37d8",
   "metadata": {},
   "outputs": [],
   "source": [
    "train_set,valid_set,test_set=random_split(dataset,[3000,406,400])"
   ]
  },
  {
   "cell_type": "code",
   "execution_count": 68,
   "id": "aea5b912",
   "metadata": {},
   "outputs": [],
   "source": [
    "train_loader = DataLoader(train_set, batch_size=32,shuffle=True,drop_last=True)\n",
    "val_loader = DataLoader(valid_set, batch_size=1)\n",
    "test_loader = DataLoader(test_set, batch_size=1)"
   ]
  },
  {
   "cell_type": "code",
   "execution_count": 69,
   "id": "19390fa9",
   "metadata": {},
   "outputs": [],
   "source": [
    "def scaled_dot_product(q, k, v):\n",
    "    d_k = q.size()[-1]\n",
    "    attn_logits = torch.matmul(q, k.transpose(-2, -1))\n",
    "    attn_logits = attn_logits / math.sqrt(d_k)\n",
    "    attention = F.softmax(attn_logits, dim=-1)\n",
    "    values = torch.matmul(attention, v)\n",
    "    return values"
   ]
  },
  {
   "cell_type": "code",
   "execution_count": 70,
   "id": "87eec1b6",
   "metadata": {},
   "outputs": [],
   "source": [
    "class MultiheadAttention(nn.Module):\n",
    "\n",
    "    def __init__(self, input_dim, embed_dim, num_heads):\n",
    "        super().__init__()\n",
    "        assert embed_dim % num_heads == 0, \"Embedding dimension must be 0 modulo number of heads.\"\n",
    "\n",
    "        self.embed_dim = embed_dim\n",
    "        self.num_heads = num_heads\n",
    "        self.head_dim = embed_dim // num_heads\n",
    "\n",
    "        # Stack all weight matrices 1...h together for efficiency\n",
    "        # Note that in many implementations you see \"bias=False\" which is optional\n",
    "        self.qkv_proj = nn.Linear(input_dim, 3*embed_dim)\n",
    "        self.o_proj = nn.Linear(embed_dim, embed_dim)\n",
    "\n",
    "        self._reset_parameters()\n",
    "\n",
    "    def _reset_parameters(self):\n",
    "        # Original Transformer initialization, see PyTorch documentation\n",
    "        nn.init.xavier_uniform_(self.qkv_proj.weight)\n",
    "        self.qkv_proj.bias.data.fill_(0)\n",
    "        nn.init.xavier_uniform_(self.o_proj.weight)\n",
    "        self.o_proj.bias.data.fill_(0)\n",
    "\n",
    "    def forward(self, x):\n",
    "        batch_size, seq_length, _ = x.size()\n",
    "        qkv = self.qkv_proj(x)\n",
    "\n",
    "        # Separate Q, K, V from linear output\n",
    "        qkv = qkv.reshape(batch_size, seq_length, self.num_heads, 3*self.head_dim)\n",
    "        qkv = qkv.permute(0, 2, 1, 3) # [Batch, Head, SeqLen, Dims]\n",
    "        q, k, v = qkv.chunk(3, dim=-1)\n",
    "\n",
    "        # Determine value outputs\n",
    "        values = scaled_dot_product(q, k, v)\n",
    "        values = values.permute(0, 2, 1, 3) # [Batch, SeqLen, Head, Dims]\n",
    "        values = values.reshape(batch_size, seq_length, self.embed_dim)\n",
    "        o = self.o_proj(values)\n",
    "\n",
    "        \n",
    "        return o"
   ]
  },
  {
   "cell_type": "code",
   "execution_count": 71,
   "id": "b009be4f",
   "metadata": {},
   "outputs": [],
   "source": [
    "class EncoderBlock(nn.Module):\n",
    "\n",
    "    def __init__(self, input_dim, num_heads, dim_feedforward, dropout=0.0):\n",
    "        \"\"\"\n",
    "        Inputs:\n",
    "            input_dim - Dimensionality of the input\n",
    "            num_heads - Number of heads to use in the attention block\n",
    "            dim_feedforward - Dimensionality of the hidden layer in the MLP\n",
    "            dropout - Dropout probability to use in the dropout layers\n",
    "        \"\"\"\n",
    "        super().__init__()\n",
    "\n",
    "        # Attention layer\n",
    "        self.self_attn = MultiheadAttention(input_dim, input_dim, num_heads)\n",
    "\n",
    "        # Two-layer MLP\n",
    "        self.linear_net = nn.Sequential(\n",
    "            nn.Linear(input_dim, dim_feedforward),\n",
    "            nn.Dropout(dropout),\n",
    "            nn.ReLU(inplace=True),\n",
    "            nn.Linear(dim_feedforward, input_dim)\n",
    "        )\n",
    "\n",
    "        # Layers to apply in between the main layers\n",
    "        self.norm1 = nn.LayerNorm(input_dim)\n",
    "        self.norm2 = nn.LayerNorm(input_dim)\n",
    "        self.dropout = nn.Dropout(dropout)\n",
    "\n",
    "    def forward(self, x):\n",
    "        # Attention part\n",
    "        attn_out = self.self_attn(x)\n",
    "        x = x + self.dropout(attn_out)\n",
    "        x = self.norm1(x)\n",
    "\n",
    "        # MLP part\n",
    "        linear_out = self.linear_net(x)\n",
    "        x = x + self.dropout(linear_out)\n",
    "        x = self.norm2(x)\n",
    "\n",
    "        return x\n",
    "\n",
    "class TransformerEncoder(nn.Module):\n",
    "\n",
    "    def __init__(self, num_layers, **block_args):\n",
    "        super().__init__()\n",
    "        self.layers = nn.ModuleList([EncoderBlock(**block_args) for _ in range(num_layers)])\n",
    "\n",
    "    def forward(self, x):\n",
    "        for l in self.layers:\n",
    "            x = l(x)\n",
    "        return x"
   ]
  },
  {
   "cell_type": "code",
   "execution_count": 72,
   "id": "675b8362",
   "metadata": {},
   "outputs": [],
   "source": [
    "class PositionalEncoding(nn.Module):\n",
    "\n",
    "    def __init__(self, d_model, max_len=5000):\n",
    "        \"\"\"\n",
    "        Inputs\n",
    "            d_model - Hidden dimensionality of the input.\n",
    "            max_len - Maximum length of a sequence to expect.\n",
    "        \"\"\"\n",
    "        super().__init__()\n",
    "\n",
    "        # Create matrix of [SeqLen, HiddenDim] representing the positional encoding for max_len inputs\n",
    "        pe = torch.zeros(max_len, d_model)\n",
    "        position = torch.arange(0, max_len, dtype=torch.float).unsqueeze(1)\n",
    "        div_term = torch.exp(torch.arange(0, d_model, 2).float() * (-math.log(10000.0) / d_model))\n",
    "        pe[:, 0::2] = torch.sin(position * div_term)\n",
    "        pe[:, 1::2] = torch.cos(position * div_term)\n",
    "        pe = pe.unsqueeze(0)\n",
    "\n",
    "        # register_buffer => Tensor which is not a parameter, but should be part of the modules state.\n",
    "        # Used for tensors that need to be on the same device as the module.\n",
    "        # persistent=False tells PyTorch to not add the buffer to the state dict (e.g. when we save the model)\n",
    "        self.register_buffer('pe', pe, persistent=False)\n",
    "\n",
    "    def forward(self, x):\n",
    "        x = x + self.pe[:, :x.size(1)]\n",
    "        return x"
   ]
  },
  {
   "cell_type": "code",
   "execution_count": 73,
   "id": "6bb09b45",
   "metadata": {},
   "outputs": [],
   "source": [
    "class CosineWarmupScheduler(optim.lr_scheduler._LRScheduler):\n",
    "\n",
    "    def __init__(self, optimizer, warmup, max_iters):\n",
    "        self.warmup = warmup\n",
    "        self.max_num_iters = max_iters\n",
    "        super().__init__(optimizer)\n",
    "\n",
    "    def get_lr(self):\n",
    "        lr_factor = self.get_lr_factor(epoch=self.last_epoch)\n",
    "        return [base_lr * lr_factor for base_lr in self.base_lrs]\n",
    "\n",
    "    def get_lr_factor(self, epoch):\n",
    "        lr_factor = 0.5 * (1 + np.cos(np.pi * epoch / self.max_num_iters))\n",
    "        if epoch <= self.warmup:\n",
    "            lr_factor *= epoch * 1.0 / self.warmup\n",
    "        return lr_factor"
   ]
  },
  {
   "cell_type": "code",
   "execution_count": 74,
   "id": "8c25d0ac",
   "metadata": {},
   "outputs": [],
   "source": [
    "class TransformerPredictor(pl.LightningModule):\n",
    "\n",
    "    def __init__(self, input_dim, model_dim, num_classes, num_heads, num_layers, lr, warmup, max_iters, dropout=0.0, input_dropout=0.0):\n",
    "        \"\"\"\n",
    "        Inputs:\n",
    "            input_dim - Hidden dimensionality of the input\n",
    "            model_dim - Hidden dimensionality to use inside the Transformer\n",
    "            num_classes - Number of classes to predict per sequence element\n",
    "            num_heads - Number of heads to use in the Multi-Head Attention blocks\n",
    "            num_layers - Number of encoder blocks to use.\n",
    "            lr - Learning rate in the optimizer\n",
    "            warmup - Number of warmup steps. Usually between 50 and 500\n",
    "            max_iters - Number of maximum iterations the model is trained for. This is needed for the CosineWarmup scheduler\n",
    "            dropout - Dropout to apply inside the model\n",
    "            input_dropout - Dropout to apply on the input features\n",
    "        \"\"\"\n",
    "        super().__init__()\n",
    "        self.save_hyperparameters()\n",
    "        self._create_model()\n",
    "\n",
    "    def _create_model(self):\n",
    "        # Input dim -> Model dim\n",
    "        self.input_net = nn.Sequential(\n",
    "            nn.Dropout(self.hparams.input_dropout),\n",
    "            nn.Linear(self.hparams.input_dim, self.hparams.model_dim)\n",
    "        )\n",
    "        # Positional encoding for sequences\n",
    "        self.positional_encoding = PositionalEncoding(d_model=self.hparams.model_dim)\n",
    "        # Transformer\n",
    "        self.transformer = TransformerEncoder(num_layers=self.hparams.num_layers,\n",
    "                                              input_dim=self.hparams.model_dim,\n",
    "                                              dim_feedforward=2*self.hparams.model_dim,\n",
    "                                              num_heads=self.hparams.num_heads,\n",
    "                                              dropout=self.hparams.dropout)\n",
    "        # Output classifier per sequence lement\n",
    "        self.output_net = nn.Sequential(\n",
    "            nn.Linear(self.hparams.model_dim, self.hparams.model_dim),\n",
    "            nn.LayerNorm(self.hparams.model_dim),\n",
    "            nn.ReLU(inplace=True),\n",
    "            nn.Dropout(self.hparams.dropout),\n",
    "            nn.Linear(self.hparams.model_dim, self.hparams.num_classes),\n",
    "            nn.ReLU(inplace=True)\n",
    "        )\n",
    "\n",
    "    def forward(self, x,add_positional_encoding=False):\n",
    "        \"\"\"\n",
    "        Inputs:\n",
    "            x - Input features of shape [Batch, SeqLen, input_dim]\n",
    "            mask - Mask to apply on the attention outputs (optional)\n",
    "            add_positional_encoding - If True, we add the positional encoding to the input.\n",
    "                                      Might not be desired for some tasks.\n",
    "        \"\"\"\n",
    "        x = self.input_net(x)\n",
    "        if add_positional_encoding:\n",
    "            x = self.positional_encoding(x)\n",
    "        x = self.transformer(x)\n",
    "        x = self.output_net(x)\n",
    "        x = F.softmax(x, dim=-2)\n",
    "        #x = F.softmax(x, dim=1)\n",
    "        return x\n",
    "\n",
    "    def configure_optimizers(self):\n",
    "        optimizer = optim.Adam(self.parameters(), lr=self.hparams.lr)\n",
    "\n",
    "        lr_scheduler = CosineWarmupScheduler(optimizer,\n",
    "                                             warmup=self.hparams.warmup,\n",
    "                                             max_iters=self.hparams.max_iters)\n",
    "        \n",
    "        return [optimizer], [{'scheduler': lr_scheduler,\n",
    "                              'interval': 'epoch'}]\n",
    "\n",
    "        \n",
    "    def training_step(self, batch, batch_idx):\n",
    "        raise NotImplementedError\n",
    "\n",
    "    def validation_step(self, batch, batch_idx):\n",
    "        raise NotImplementedError\n",
    "\n",
    "    def test_step(self, batch, batch_idx):\n",
    "        raise NotImplementedError\n",
    "        \n",
    "    def on_train_epoch_end(self):\n",
    "        raise NotImplementedError"
   ]
  },
  {
   "cell_type": "code",
   "execution_count": 125,
   "id": "82c85f6c",
   "metadata": {},
   "outputs": [],
   "source": [
    "class  KnapsackPredictor(TransformerPredictor):\n",
    "\n",
    "    def _calculate_loss(self, batch, mode=\"train\"):\n",
    "        inp_data, labels = batch\n",
    "        # Perform prediction and calculate loss and accuracy\n",
    "        #scaling_factors=torch.tensor([10,1],device=device)\n",
    "        preds = self.forward(inp_data)\n",
    "        loss1 = F.l1_loss(preds[:,:,0],labels[:,:,0])\n",
    "        loss2 = F.l1_loss(preds[:,:,1],labels[:,:,1])\n",
    "        loss=loss1+loss2\n",
    "        # Logging\n",
    "        self.log(f\"{mode}_loss\",loss)\n",
    "        self.log(f\"{mode}_loss1\",loss1)\n",
    "        self.log(f\"{mode}_loss2\",loss2)\n",
    "        return loss\n",
    "\n",
    "\n",
    "    def training_step(self, batch, batch_idx):\n",
    "        loss= self._calculate_loss(batch, mode=\"train\")\n",
    "        return loss\n",
    "\n",
    "    def validation_step(self, batch, batch_idx):\n",
    "        _ = self._calculate_loss(batch, mode=\"val\")\n",
    "\n",
    "    def test_step(self, batch, batch_idx):\n",
    "        _ = self._calculate_loss(batch, mode=\"test\")\n",
    "        \n",
    "    def on_train_epoch_end(self):\n",
    "        batch = next(iter(train_loader))\n",
    "        x, _ = batch\n",
    "        x=x.to(device)\n",
    "        # Forward pass to get predictions\n",
    "        predictions = self.forward(x)\n",
    "        \n",
    "        # Print predictions\n",
    "        print(\"Predictions:\", predictions[[-1]].to('cpu').detach().numpy())"
   ]
  },
  {
   "cell_type": "code",
   "execution_count": 76,
   "id": "d91efc00",
   "metadata": {},
   "outputs": [],
   "source": [
    "CHECKPOINT_PATH=\"C:\\\\Users\\\\zhira\\\\CSIE_PYTHON_PROJECTS\\\\UFP_FINAL\""
   ]
  },
  {
   "cell_type": "code",
   "execution_count": 77,
   "id": "0c682f17",
   "metadata": {},
   "outputs": [],
   "source": [
    "def train_knapsack(**kwargs):\n",
    "    # Create a PyTorch Lightning trainer with the generation callback\n",
    "    root_dir = os.path.join(CHECKPOINT_PATH, \"UfpCheckPoint\")\n",
    "    os.makedirs(root_dir, exist_ok=True)\n",
    "    trainer = pl.Trainer(callbacks=[ModelCheckpoint(dirpath=root_dir,filename='UfpCheckPoint',save_weights_only=True, mode=\"min\", monitor=\"val_loss\"),\n",
    "                                    LearningRateMonitor(logging_interval='epoch'),\n",
    "                                    EarlyStopping(monitor=\"val_loss\", min_delta=1e-6, patience=20, verbose=False, mode=\"min\")],\n",
    "                         accelerator=\"gpu\" if str(device).startswith(\"cuda\") else \"cpu\",\n",
    "                         devices=1,\n",
    "                         max_epochs=150,\n",
    "                         gradient_clip_val=1,\n",
    "                         log_every_n_steps=10)\n",
    "    trainer.logger._default_hp_metric = None # Optional logging argument that we don't need\n",
    "\n",
    "    # Check whether pretrained model exists. If yes, load it and skip training\n",
    "    pretrained_filename = os.path.join(root_dir, \"UfpCheckPoint.ckpt\")\n",
    "    if os.path.isfile(pretrained_filename):\n",
    "        print(\"Found pretrained model, loading...\")\n",
    "        model = KnapsackPredictor.load_from_checkpoint(pretrained_filename)\n",
    "    else:\n",
    "        model = KnapsackPredictor(max_iters=trainer.max_epochs, **kwargs)\n",
    "        trainer.fit(model, train_loader, val_loader)\n",
    "        for name, param in model.named_parameters():\n",
    "            if param.grad is not None:\n",
    "                print(f\"Parameter: {name}, Gradient: {param.grad}\")\n",
    "\n",
    "    # Test best model on validation and test set\n",
    "    val_result = trainer.test(model, val_loader, verbose=1)\n",
    "    test_result = trainer.test(model, test_loader, verbose=1)\n",
    "\n",
    "    model = model.to(device)\n",
    "    return model"
   ]
  },
  {
   "cell_type": "code",
   "execution_count": 79,
   "id": "8e141eaf",
   "metadata": {},
   "outputs": [
    {
     "name": "stderr",
     "output_type": "stream",
     "text": [
      "GPU available: True (cuda), used: True\n",
      "TPU available: False, using: 0 TPU cores\n",
      "IPU available: False, using: 0 IPUs\n",
      "HPU available: False, using: 0 HPUs\n",
      "LOCAL_RANK: 0 - CUDA_VISIBLE_DEVICES: [0]\n"
     ]
    },
    {
     "name": "stdout",
     "output_type": "stream",
     "text": [
      "Found pretrained model, loading...\n"
     ]
    },
    {
     "data": {
      "application/vnd.jupyter.widget-view+json": {
       "model_id": "53c4d73f1c344ddc94c1ffa7429191aa",
       "version_major": 2,
       "version_minor": 0
      },
      "text/plain": [
       "Testing: 0it [00:00, ?it/s]"
      ]
     },
     "metadata": {},
     "output_type": "display_data"
    },
    {
     "data": {
      "text/html": [
       "<pre style=\"white-space:pre;overflow-x:auto;line-height:normal;font-family:Menlo,'DejaVu Sans Mono',consolas,'Courier New',monospace\">┏━━━━━━━━━━━━━━━━━━━━━━━━━━━┳━━━━━━━━━━━━━━━━━━━━━━━━━━━┓\n",
       "┃<span style=\"font-weight: bold\">        Test metric        </span>┃<span style=\"font-weight: bold\">       DataLoader 0        </span>┃\n",
       "┡━━━━━━━━━━━━━━━━━━━━━━━━━━━╇━━━━━━━━━━━━━━━━━━━━━━━━━━━┩\n",
       "│<span style=\"color: #008080; text-decoration-color: #008080\">         test_loss         </span>│<span style=\"color: #800080; text-decoration-color: #800080\">   0.000873055134434253    </span>│\n",
       "│<span style=\"color: #008080; text-decoration-color: #008080\">        test_loss1         </span>│<span style=\"color: #800080; text-decoration-color: #800080\">  0.00039693727740086615   </span>│\n",
       "│<span style=\"color: #008080; text-decoration-color: #008080\">        test_loss2         </span>│<span style=\"color: #800080; text-decoration-color: #800080\">   0.0004761175368912518   </span>│\n",
       "└───────────────────────────┴───────────────────────────┘\n",
       "</pre>\n"
      ],
      "text/plain": [
       "┏━━━━━━━━━━━━━━━━━━━━━━━━━━━┳━━━━━━━━━━━━━━━━━━━━━━━━━━━┓\n",
       "┃\u001b[1m \u001b[0m\u001b[1m       Test metric       \u001b[0m\u001b[1m \u001b[0m┃\u001b[1m \u001b[0m\u001b[1m      DataLoader 0       \u001b[0m\u001b[1m \u001b[0m┃\n",
       "┡━━━━━━━━━━━━━━━━━━━━━━━━━━━╇━━━━━━━━━━━━━━━━━━━━━━━━━━━┩\n",
       "│\u001b[36m \u001b[0m\u001b[36m        test_loss        \u001b[0m\u001b[36m \u001b[0m│\u001b[35m \u001b[0m\u001b[35m  0.000873055134434253   \u001b[0m\u001b[35m \u001b[0m│\n",
       "│\u001b[36m \u001b[0m\u001b[36m       test_loss1        \u001b[0m\u001b[36m \u001b[0m│\u001b[35m \u001b[0m\u001b[35m 0.00039693727740086615  \u001b[0m\u001b[35m \u001b[0m│\n",
       "│\u001b[36m \u001b[0m\u001b[36m       test_loss2        \u001b[0m\u001b[36m \u001b[0m│\u001b[35m \u001b[0m\u001b[35m  0.0004761175368912518  \u001b[0m\u001b[35m \u001b[0m│\n",
       "└───────────────────────────┴───────────────────────────┘\n"
      ]
     },
     "metadata": {},
     "output_type": "display_data"
    },
    {
     "name": "stderr",
     "output_type": "stream",
     "text": [
      "LOCAL_RANK: 0 - CUDA_VISIBLE_DEVICES: [0]\n"
     ]
    },
    {
     "data": {
      "application/vnd.jupyter.widget-view+json": {
       "model_id": "8a7236bd79db46ca85c99effb0d0e4d7",
       "version_major": 2,
       "version_minor": 0
      },
      "text/plain": [
       "Testing: 0it [00:00, ?it/s]"
      ]
     },
     "metadata": {},
     "output_type": "display_data"
    },
    {
     "data": {
      "text/html": [
       "<pre style=\"white-space:pre;overflow-x:auto;line-height:normal;font-family:Menlo,'DejaVu Sans Mono',consolas,'Courier New',monospace\">┏━━━━━━━━━━━━━━━━━━━━━━━━━━━┳━━━━━━━━━━━━━━━━━━━━━━━━━━━┓\n",
       "┃<span style=\"font-weight: bold\">        Test metric        </span>┃<span style=\"font-weight: bold\">       DataLoader 0        </span>┃\n",
       "┡━━━━━━━━━━━━━━━━━━━━━━━━━━━╇━━━━━━━━━━━━━━━━━━━━━━━━━━━┩\n",
       "│<span style=\"color: #008080; text-decoration-color: #008080\">         test_loss         </span>│<span style=\"color: #800080; text-decoration-color: #800080\">   0.0008958101971074939   </span>│\n",
       "│<span style=\"color: #008080; text-decoration-color: #008080\">        test_loss1         </span>│<span style=\"color: #800080; text-decoration-color: #800080\">  0.00040719498065300286   </span>│\n",
       "│<span style=\"color: #008080; text-decoration-color: #008080\">        test_loss2         </span>│<span style=\"color: #800080; text-decoration-color: #800080\">   0.0004886150127276778   </span>│\n",
       "└───────────────────────────┴───────────────────────────┘\n",
       "</pre>\n"
      ],
      "text/plain": [
       "┏━━━━━━━━━━━━━━━━━━━━━━━━━━━┳━━━━━━━━━━━━━━━━━━━━━━━━━━━┓\n",
       "┃\u001b[1m \u001b[0m\u001b[1m       Test metric       \u001b[0m\u001b[1m \u001b[0m┃\u001b[1m \u001b[0m\u001b[1m      DataLoader 0       \u001b[0m\u001b[1m \u001b[0m┃\n",
       "┡━━━━━━━━━━━━━━━━━━━━━━━━━━━╇━━━━━━━━━━━━━━━━━━━━━━━━━━━┩\n",
       "│\u001b[36m \u001b[0m\u001b[36m        test_loss        \u001b[0m\u001b[36m \u001b[0m│\u001b[35m \u001b[0m\u001b[35m  0.0008958101971074939  \u001b[0m\u001b[35m \u001b[0m│\n",
       "│\u001b[36m \u001b[0m\u001b[36m       test_loss1        \u001b[0m\u001b[36m \u001b[0m│\u001b[35m \u001b[0m\u001b[35m 0.00040719498065300286  \u001b[0m\u001b[35m \u001b[0m│\n",
       "│\u001b[36m \u001b[0m\u001b[36m       test_loss2        \u001b[0m\u001b[36m \u001b[0m│\u001b[35m \u001b[0m\u001b[35m  0.0004886150127276778  \u001b[0m\u001b[35m \u001b[0m│\n",
       "└───────────────────────────┴───────────────────────────┘\n"
      ]
     },
     "metadata": {},
     "output_type": "display_data"
    }
   ],
   "source": [
    "knapsack_model =                  train_knapsack(input_dim=108,\n",
    "                                                 model_dim=150,\n",
    "                                                 num_heads=2,\n",
    "                                                 num_classes=2,\n",
    "                                                 num_layers=2,\n",
    "                                                 dropout=0.0,\n",
    "                                                 lr=1e-4,\n",
    "                                                 warmup=20)"
   ]
  },
  {
   "cell_type": "code",
   "execution_count": 80,
   "id": "aef8ae43",
   "metadata": {},
   "outputs": [],
   "source": [
    "inps,labs=test_set.__getitem__(0)"
   ]
  },
  {
   "cell_type": "code",
   "execution_count": 82,
   "id": "6d721ff0",
   "metadata": {},
   "outputs": [],
   "source": [
    "inps=torch.from_numpy(np.float32(inps[None,:])).to(device)"
   ]
  },
  {
   "cell_type": "code",
   "execution_count": 90,
   "id": "34066cb5",
   "metadata": {},
   "outputs": [],
   "source": [
    "pred=knapsack_model(inps)"
   ]
  },
  {
   "cell_type": "code",
   "execution_count": 91,
   "id": "f98bec70",
   "metadata": {},
   "outputs": [
    {
     "data": {
      "text/plain": [
       "torch.Size([1, 241, 2])"
      ]
     },
     "execution_count": 91,
     "metadata": {},
     "output_type": "execute_result"
    }
   ],
   "source": [
    "pred.shape"
   ]
  },
  {
   "cell_type": "code",
   "execution_count": 92,
   "id": "7acb1b04",
   "metadata": {},
   "outputs": [
    {
     "data": {
      "text/plain": [
       "(241, 2)"
      ]
     },
     "execution_count": 92,
     "metadata": {},
     "output_type": "execute_result"
    }
   ],
   "source": [
    "lab.shape"
   ]
  },
  {
   "cell_type": "code",
   "execution_count": 93,
   "id": "f67cadf7",
   "metadata": {},
   "outputs": [],
   "source": [
    "pred=pred.cpu().detach().numpy().squeeze()"
   ]
  },
  {
   "cell_type": "code",
   "execution_count": 95,
   "id": "5ca810cf",
   "metadata": {},
   "outputs": [
    {
     "data": {
      "text/plain": [
       "[<matplotlib.lines.Line2D at 0x17229cb6250>]"
      ]
     },
     "execution_count": 95,
     "metadata": {},
     "output_type": "execute_result"
    },
    {
     "data": {
      "image/png": "[encoded data removed]",
      "text/plain": [
       "<Figure size 640x480 with 1 Axes>"
      ]
     },
     "metadata": {},
     "output_type": "display_data"
    }
   ],
   "source": [
    "plt.scatter(pred[:,0],labs[:,0])\n",
    "plt.plot([0,0.6],[0,0.6])"
   ]
  },
  {
   "cell_type": "code",
   "execution_count": 97,
   "id": "e8ebf846",
   "metadata": {},
   "outputs": [
    {
     "data": {
      "text/plain": [
       "[<matplotlib.lines.Line2D at 0x17229da8640>]"
      ]
     },
     "execution_count": 97,
     "metadata": {},
     "output_type": "execute_result"
    },
    {
     "data": {
      "image/png": "[encoded data removed]",
      "text/plain": [
       "<Figure size 640x480 with 1 Axes>"
      ]
     },
     "metadata": {},
     "output_type": "display_data"
    }
   ],
   "source": [
    "plt.scatter(pred[:,1],labs[:,1])\n",
    "plt.plot([0,0.6],[0,0.6])"
   ]
  },
  {
   "cell_type": "code",
   "execution_count": 98,
   "id": "919587d7",
   "metadata": {},
   "outputs": [],
   "source": [
    "def selection_algorithm(clients_list,time_slot,groups,total_demand,y_pred):\n",
    "    num_of_changes=10\n",
    "    num_of_dims=time_slot.shape[0]\n",
    "    if type(y_pred)!=np.ndarray:\n",
    "        prediction=y_pred.cpu().detach().numpy()\n",
    "    else:\n",
    "        prediction=y_pred\n",
    "    length=clients_list.shape[0]\n",
    "    time_length=time_slot.shape[1]\n",
    "    time_slot_min=np.zeros(num_of_dims)\n",
    "    for dim in range(num_of_dims):\n",
    "        time_slot_min[dim]=time_slot[dim].min()\n",
    "    sum_demands=prediction[:,1]*total_demand #(total_demand)<-total demand of selected items in the first dimension\n",
    "    violated_total_utility=0\n",
    "    violated_selected_items=[]\n",
    "    final_total_utility=0\n",
    "    final_selected_items=[]\n",
    "    for step in range(100):\n",
    "        total_utility=0\n",
    "        selected_items=[]\n",
    "        for i,group in enumerate(groups):\n",
    "            if(group.size>0):\n",
    "                max_res=0\n",
    "                best_vec=np.array([])\n",
    "                curr_demand=0\n",
    "                group_util_sum=np.sum(group[:,-2])\n",
    "                #prob_vec=np.array([item[-2]/group_util_sum for item in group])\n",
    "                prob_vec_uniform=np.ones(group.shape[0])/group.shape[0]\n",
    "                for _ in range(10):\n",
    "                    sel_size=min(math.ceil(prediction[i][0]*length),group.shape[0])\n",
    "                    selection=np.random.choice(range(group.shape[0]),sel_size,replace=False,p=prob_vec_uniform)\n",
    "                    sel_vec=group[selection]\n",
    "                    util_sum=np.sum(sel_vec[:,-2])\n",
    "                    d_sum=np.sum(sel_vec[:,0]) #total demand of selected items in the first dimension\n",
    "                    if np.abs(d_sum-sum_demands[i])<=0.1*sum_demands[i] and util_sum>max_res:\n",
    "                        max_res=util_sum\n",
    "                        best_vec=sel_vec\n",
    "                        curr_demand=d_sum\n",
    "                if best_vec.size>0:\n",
    "                    total_utility+=max_res\n",
    "                    for item in best_vec:\n",
    "                        selected_items.append(item)\n",
    "        is_correct=np.stack([sum([selected_items[index][dim]*time_slot_min[dim]*selected_items[index][num_of_dims+1+time] for index in range(len(selected_items))])<=time_slot[dim][time-1]\n",
    "                                                  for dim in range(num_of_dims) for time in range(1,time_length+1)])\n",
    "        if all(is_correct):\n",
    "            if final_total_utility<total_utility:\n",
    "                final_selected_items=selected_items.copy()\n",
    "                final_total_utility=total_utility\n",
    "        else:\n",
    "            if violated_total_utility<total_utility:\n",
    "                violated_selected_items=selected_items.copy()\n",
    "                violated_total_utility=total_utility\n",
    "                correct=np.copy(is_correct)\n",
    "    if final_total_utility>0:\n",
    "        return np.stack(final_selected_items),final_total_utility\n",
    "    while not all(correct):\n",
    "            min_utility=2\n",
    "            min_item_index=0\n",
    "            indices=np.where(correct==False)[0]\n",
    "            dims_f=indices%6\n",
    "            times_f=indices//6+1\n",
    "            time_indices=num_of_dims+1+times_f\n",
    "            for item in range(len(violated_selected_items)):\n",
    "                x=violated_selected_items[item]\n",
    "                if any(x[time_indices]==1):\n",
    "                    if(x[-2]<min_utility):\n",
    "                        min_utility=x[-2]\n",
    "                        min_item_index=item\n",
    "            violated_selected_items.pop(min_item_index)\n",
    "            violated_total_utility=sum([item[-2] for item in violated_selected_items])\n",
    "            correct=np.stack([sum([violated_selected_items[index][dim]*time_slot_min[dim]*violated_selected_items[index][num_of_dims+1+time] for index in range(len(violated_selected_items))])<=time_slot[dim][time-1]\n",
    "                                              for dim in range(num_of_dims) for time in range(1,time_length+1)])\n",
    "            if all(correct):\n",
    "                break\n",
    "    return np.stack(violated_selected_items),violated_total_utility"
   ]
  },
  {
   "cell_type": "code",
   "execution_count": 99,
   "id": "032840cc",
   "metadata": {},
   "outputs": [],
   "source": [
    "def selection_algorithm2(clients_list,time_slot,groups,total_demand,y_pred):\n",
    "    if type(y_pred)!=np.ndarray:\n",
    "        prediction=y_pred.cpu().detach().numpy()\n",
    "    else:\n",
    "        prediction=y_pred\n",
    "    num_of_dims=time_slot.shape[0]\n",
    "    length=clients_list.shape[0]\n",
    "    time_length=time_slot.shape[1]\n",
    "    time_slot_min = time_slot.min(axis=1)\n",
    "    \n",
    "    sum_demands=prediction[:,1]*total_demand #(total_demand)<-total demand of selected items in the first dimension\n",
    "    final_total_utility=0\n",
    "    final_selected_items=[]\n",
    "    for step in range(100):\n",
    "        total_utility=0\n",
    "        selected_items=[]\n",
    "        for i,group in enumerate(groups):\n",
    "            if(group.size>0):\n",
    "                max_res=0\n",
    "                best_vec=np.array([])\n",
    "                curr_demand=0\n",
    "                group_util_sum=np.sum(group[:,-2])\n",
    "                #prob_vec=np.array([item[-2]/group_util_sum for item in group])\n",
    "                prob_vec_uniform=np.ones(group.shape[0])/group.shape[0]\n",
    "                for _ in range(10):\n",
    "                    sel_size=min(math.ceil(prediction[i][0]*length),group.shape[0])\n",
    "                    selection=np.random.choice(range(group.shape[0]),sel_size,replace=False,p=prob_vec_uniform)\n",
    "                    sel_vec=group[selection]\n",
    "                    util_sum=np.sum(sel_vec[:,-2])\n",
    "                    d_sum=np.sum(sel_vec[:,0]) #total demand of selected items in the first dimension\n",
    "                    if util_sum>max_res and np.abs(d_sum-sum_demands[i])<=0.1*sum_demands[i]:#0.05\n",
    "                        max_res=util_sum\n",
    "                        best_vec=sel_vec\n",
    "                        curr_demand=d_sum\n",
    "                if best_vec.size>0:\n",
    "                    total_utility+=max_res\n",
    "                    selected_items.extend(best_vec)\n",
    "                    \n",
    "        is_correct=np.stack([sum([selected_items[index][dim]*time_slot_min[dim]*selected_items[index][num_of_dims+1+time] for index in range(len(selected_items))])<=time_slot[dim][time-1]\n",
    "                                                  for dim in range(num_of_dims) for time in range(1,time_length+1)])\n",
    "        while not all(is_correct) and total_utility>final_total_utility:\n",
    "            min_utility=2\n",
    "            min_item_index=0\n",
    "            indices=np.where(is_correct==False)[0]\n",
    "            dims_f=indices%6\n",
    "            times_f=indices//6+1\n",
    "            time_indices=num_of_dims+1+times_f\n",
    "            for item in range(len(selected_items)):\n",
    "                x=selected_items[item]\n",
    "                if any(x[time_indices]==1):\n",
    "                    if(x[-2]<min_utility):\n",
    "                        min_utility=x[-2]\n",
    "                        min_item_index=item\n",
    "            selected_items.pop(min_item_index)\n",
    "            total_utility=sum([item[-2] for item in selected_items])\n",
    "            is_correct=np.stack([sum([selected_items[index][dim]*time_slot_min[dim]*selected_items[index][num_of_dims+1+time] for index in range(len(selected_items))])<=time_slot[dim][time-1]\n",
    "                                              for dim in range(num_of_dims) for time in range(1,time_length+1)])\n",
    "            if all(is_correct):\n",
    "                break\n",
    "        if final_total_utility<total_utility:\n",
    "            final_selected_items=selected_items.copy()\n",
    "            final_total_utility=total_utility\n",
    "    return np.stack(final_selected_items),final_total_utility"
   ]
  },
  {
   "cell_type": "code",
   "execution_count": 100,
   "id": "9e96a484",
   "metadata": {},
   "outputs": [],
   "source": [
    "def selection_algorithm3(clients_list, time_slot, groups, total_demand, y_pred):\n",
    "    if type(y_pred) != np.ndarray:\n",
    "        prediction = y_pred.cpu().detach().numpy()\n",
    "    else:\n",
    "        prediction = y_pred\n",
    "\n",
    "    num_of_dims = time_slot.shape[0]\n",
    "    length = clients_list.shape[0]\n",
    "    time_length = time_slot.shape[1]\n",
    "    time_slot_min = time_slot.min(axis=1)\n",
    "    \n",
    "    sum_demands = prediction[:, 1] * total_demand \n",
    "\n",
    "    final_total_utility = 0\n",
    "    final_selected_items = []\n",
    "\n",
    "    for _ in range(10):\n",
    "        total_utility = 0\n",
    "        selected_items = []\n",
    "        rand_perm = np.random.permutation(len(groups))\n",
    "        \n",
    "        for gr_num in rand_perm:\n",
    "            group = groups[gr_num]\n",
    "            if group.size > 0:\n",
    "                max_res = 0\n",
    "                best_vec = np.array([])\n",
    "\n",
    "                sel_size = min(math.ceil(prediction[gr_num][0] * length), group.shape[0])\n",
    "                indexes = set(range(sel_size))\n",
    "                chosen = set()\n",
    "                invalid_indices = set()\n",
    "\n",
    "                for _ in range(10):\n",
    "                    sel_vec = []\n",
    "\n",
    "                    for index in range(sel_size):\n",
    "                        for _ in range(10):\n",
    "                            available_indexes = list(indexes - chosen - invalid_indices)\n",
    "                            if not available_indexes:\n",
    "                                break\n",
    "                            \n",
    "                            choice = np.random.choice(available_indexes)\n",
    "                            \n",
    "                            curr_item = group[choice]\n",
    "                            temp_selected_items = selected_items + [curr_item]\n",
    "\n",
    "                            sums = np.array([sum([item[dim] * time_slot_min[dim] * item[num_of_dims + 1 + time] for item in temp_selected_items])\n",
    "                                             for dim in range(num_of_dims) for time in range(1, time_length + 1)])\n",
    "\n",
    "                            is_correct = sums <= time_slot[:,:time_length].flatten()\n",
    "\n",
    "                            if all(is_correct):\n",
    "                                sel_vec.append(curr_item)\n",
    "                                chosen.add(choice)\n",
    "                                break\n",
    "                            else:\n",
    "                                invalid_indices.add(choice)\n",
    "\n",
    "                    if sel_vec:\n",
    "                        sel_vec = np.array(sel_vec)\n",
    "                        util_sum = sel_vec[:, -2].sum()\n",
    "                        d_sum = sel_vec[:, 0].sum()\n",
    "\n",
    "                        if util_sum > max_res and np.abs(d_sum - sum_demands[gr_num]) <= 0.2 * sum_demands[gr_num] :\n",
    "                            max_res = util_sum\n",
    "                            best_vec = sel_vec\n",
    "\n",
    "                if best_vec.size > 0:\n",
    "                    total_utility += max_res\n",
    "                    selected_items.extend(best_vec)\n",
    "\n",
    "        if final_total_utility < total_utility:\n",
    "            final_total_utility = total_utility\n",
    "            final_selected_items = selected_items\n",
    "\n",
    "    return np.stack(final_selected_items), final_total_utility"
   ]
  },
  {
   "cell_type": "code",
   "execution_count": 101,
   "id": "9656a98a",
   "metadata": {},
   "outputs": [],
   "source": [
    "states=list(glob.glob('states/*.npz'))"
   ]
  },
  {
   "cell_type": "code",
   "execution_count": 110,
   "id": "ca49a1b0",
   "metadata": {},
   "outputs": [],
   "source": [
    "answer=list(glob.glob('answers/*.npy'))"
   ]
  },
  {
   "cell_type": "code",
   "execution_count": 102,
   "id": "904b4e08",
   "metadata": {},
   "outputs": [],
   "source": [
    "nums=len(states)"
   ]
  },
  {
   "cell_type": "code",
   "execution_count": 118,
   "id": "7b2c3a65",
   "metadata": {},
   "outputs": [],
   "source": [
    "def func(idx):\n",
    "    state = np.load(states[idx])\n",
    "    clients_list = state['cl']\n",
    "    time_slot_capacity = state['tslot']\n",
    "    quad_constr = state['quad_constr']\n",
    "    f_groups, tot_dem, min_av_max_caps, av_cap_bytime, min_util, av_util, q_c = problem_grouping(clients_list,\n",
    "                                                                                             time_slot_capacity,\n",
    "                                                                                             quad_constr)\n",
    "    inputs, labels = data_preprocess(f_groups, tot_dem, q_c, min_av_max_caps, av_cap_bytime,\n",
    "                           min_util, av_util)\n",
    "    ans=np.load(answer[idx])\n",
    "    return clients_list,time_slot_capacity,f_groups,tot_dem,np.float32(inputs),np.float32(labels),ans"
   ]
  },
  {
   "cell_type": "code",
   "execution_count": 119,
   "id": "66bc6cf5",
   "metadata": {},
   "outputs": [
    {
     "name": "stdout",
     "output_type": "stream",
     "text": [
      "13.500040292739868\n"
     ]
    }
   ],
   "source": [
    "clients_list,time_slot,groups,total_demand,inp,lab,ans=func(100)\n",
    "inp=torch.from_numpy(np.float32(inp[None,:])).to(device)\n",
    "pred=knapsack_model(inp)\n",
    "y_pred=pred.cpu().detach().numpy().squeeze()\n",
    "start=time.time()\n",
    "sel_it,util=selection_algorithm(clients_list,time_slot,groups,total_demand,y_pred)\n",
    "print(time.time()-start)"
   ]
  }
 ],
 "metadata": {
  "kernelspec": {
   "display_name": "Python 3 (ipykernel)",
   "language": "python",
   "name": "python3"
  },
  "language_info": {
   "codemirror_mode": {
    "name": "ipython",
    "version": 3
   },
   "file_extension": ".py",
   "mimetype": "text/x-python",
   "name": "python",
   "nbconvert_exporter": "python",
   "pygments_lexer": "ipython3",
   "version": "3.9.13"
  }
 },
 "nbformat": 4,
 "nbformat_minor": 5
}
